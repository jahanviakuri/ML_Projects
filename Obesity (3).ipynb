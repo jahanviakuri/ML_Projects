{
  "nbformat": 4,
  "nbformat_minor": 0,
  "metadata": {
    "colab": {
      "provenance": []
    },
    "kernelspec": {
      "name": "python3",
      "display_name": "Python 3"
    },
    "language_info": {
      "name": "python"
    }
  },
  "cells": [
    {
      "cell_type": "code",
      "execution_count": 1,
      "metadata": {
        "id": "8uEmQgKnjS4r"
      },
      "outputs": [],
      "source": [
        "\n",
        "#importing libraries \n",
        "\n",
        "import numpy as np\n",
        "import pandas as pd\n",
        "import tensorflow as tf\n",
        "from sklearn.model_selection import train_test_split\n",
        "import matplotlib.pyplot as plt\n",
        "from tensorflow.python import keras\n",
        "import seaborn as sns"
      ]
    },
    {
      "cell_type": "code",
      "source": [
        "from google.colab import drive\n",
        "drive.mount('/content/drive')"
      ],
      "metadata": {
        "id": "Xeu09HFwZxAC",
        "colab": {
          "base_uri": "https://localhost:8080/",
          "height": 328
        },
        "outputId": "028c030e-f5ca-4c32-bf4c-d95ad542e48b"
      },
      "execution_count": 2,
      "outputs": [
        {
          "output_type": "error",
          "ename": "MessageError",
          "evalue": "ignored",
          "traceback": [
            "\u001b[0;31m---------------------------------------------------------------------------\u001b[0m",
            "\u001b[0;31mMessageError\u001b[0m                              Traceback (most recent call last)",
            "\u001b[0;32m<ipython-input-2-d5df0069828e>\u001b[0m in \u001b[0;36m<cell line: 2>\u001b[0;34m()\u001b[0m\n\u001b[1;32m      1\u001b[0m \u001b[0;32mfrom\u001b[0m \u001b[0mgoogle\u001b[0m\u001b[0;34m.\u001b[0m\u001b[0mcolab\u001b[0m \u001b[0;32mimport\u001b[0m \u001b[0mdrive\u001b[0m\u001b[0;34m\u001b[0m\u001b[0;34m\u001b[0m\u001b[0m\n\u001b[0;32m----> 2\u001b[0;31m \u001b[0mdrive\u001b[0m\u001b[0;34m.\u001b[0m\u001b[0mmount\u001b[0m\u001b[0;34m(\u001b[0m\u001b[0;34m'/content/drive'\u001b[0m\u001b[0;34m)\u001b[0m\u001b[0;34m\u001b[0m\u001b[0;34m\u001b[0m\u001b[0m\n\u001b[0m",
            "\u001b[0;32m/usr/local/lib/python3.9/dist-packages/google/colab/drive.py\u001b[0m in \u001b[0;36mmount\u001b[0;34m(mountpoint, force_remount, timeout_ms, readonly)\u001b[0m\n\u001b[1;32m    101\u001b[0m \u001b[0;32mdef\u001b[0m \u001b[0mmount\u001b[0m\u001b[0;34m(\u001b[0m\u001b[0mmountpoint\u001b[0m\u001b[0;34m,\u001b[0m \u001b[0mforce_remount\u001b[0m\u001b[0;34m=\u001b[0m\u001b[0;32mFalse\u001b[0m\u001b[0;34m,\u001b[0m \u001b[0mtimeout_ms\u001b[0m\u001b[0;34m=\u001b[0m\u001b[0;36m120000\u001b[0m\u001b[0;34m,\u001b[0m \u001b[0mreadonly\u001b[0m\u001b[0;34m=\u001b[0m\u001b[0;32mFalse\u001b[0m\u001b[0;34m)\u001b[0m\u001b[0;34m:\u001b[0m\u001b[0;34m\u001b[0m\u001b[0;34m\u001b[0m\u001b[0m\n\u001b[1;32m    102\u001b[0m   \u001b[0;34m\"\"\"Mount your Google Drive at the specified mountpoint path.\"\"\"\u001b[0m\u001b[0;34m\u001b[0m\u001b[0;34m\u001b[0m\u001b[0m\n\u001b[0;32m--> 103\u001b[0;31m   return _mount(\n\u001b[0m\u001b[1;32m    104\u001b[0m       \u001b[0mmountpoint\u001b[0m\u001b[0;34m,\u001b[0m\u001b[0;34m\u001b[0m\u001b[0;34m\u001b[0m\u001b[0m\n\u001b[1;32m    105\u001b[0m       \u001b[0mforce_remount\u001b[0m\u001b[0;34m=\u001b[0m\u001b[0mforce_remount\u001b[0m\u001b[0;34m,\u001b[0m\u001b[0;34m\u001b[0m\u001b[0;34m\u001b[0m\u001b[0m\n",
            "\u001b[0;32m/usr/local/lib/python3.9/dist-packages/google/colab/drive.py\u001b[0m in \u001b[0;36m_mount\u001b[0;34m(mountpoint, force_remount, timeout_ms, ephemeral, readonly)\u001b[0m\n\u001b[1;32m    130\u001b[0m   )\n\u001b[1;32m    131\u001b[0m   \u001b[0;32mif\u001b[0m \u001b[0mephemeral\u001b[0m\u001b[0;34m:\u001b[0m\u001b[0;34m\u001b[0m\u001b[0;34m\u001b[0m\u001b[0m\n\u001b[0;32m--> 132\u001b[0;31m     _message.blocking_request(\n\u001b[0m\u001b[1;32m    133\u001b[0m         \u001b[0;34m'request_auth'\u001b[0m\u001b[0;34m,\u001b[0m \u001b[0mrequest\u001b[0m\u001b[0;34m=\u001b[0m\u001b[0;34m{\u001b[0m\u001b[0;34m'authType'\u001b[0m\u001b[0;34m:\u001b[0m \u001b[0;34m'dfs_ephemeral'\u001b[0m\u001b[0;34m}\u001b[0m\u001b[0;34m,\u001b[0m \u001b[0mtimeout_sec\u001b[0m\u001b[0;34m=\u001b[0m\u001b[0;32mNone\u001b[0m\u001b[0;34m\u001b[0m\u001b[0;34m\u001b[0m\u001b[0m\n\u001b[1;32m    134\u001b[0m     )\n",
            "\u001b[0;32m/usr/local/lib/python3.9/dist-packages/google/colab/_message.py\u001b[0m in \u001b[0;36mblocking_request\u001b[0;34m(request_type, request, timeout_sec, parent)\u001b[0m\n\u001b[1;32m    175\u001b[0m       \u001b[0mrequest_type\u001b[0m\u001b[0;34m,\u001b[0m \u001b[0mrequest\u001b[0m\u001b[0;34m,\u001b[0m \u001b[0mparent\u001b[0m\u001b[0;34m=\u001b[0m\u001b[0mparent\u001b[0m\u001b[0;34m,\u001b[0m \u001b[0mexpect_reply\u001b[0m\u001b[0;34m=\u001b[0m\u001b[0;32mTrue\u001b[0m\u001b[0;34m\u001b[0m\u001b[0;34m\u001b[0m\u001b[0m\n\u001b[1;32m    176\u001b[0m   )\n\u001b[0;32m--> 177\u001b[0;31m   \u001b[0;32mreturn\u001b[0m \u001b[0mread_reply_from_input\u001b[0m\u001b[0;34m(\u001b[0m\u001b[0mrequest_id\u001b[0m\u001b[0;34m,\u001b[0m \u001b[0mtimeout_sec\u001b[0m\u001b[0;34m)\u001b[0m\u001b[0;34m\u001b[0m\u001b[0;34m\u001b[0m\u001b[0m\n\u001b[0m",
            "\u001b[0;32m/usr/local/lib/python3.9/dist-packages/google/colab/_message.py\u001b[0m in \u001b[0;36mread_reply_from_input\u001b[0;34m(message_id, timeout_sec)\u001b[0m\n\u001b[1;32m    102\u001b[0m     ):\n\u001b[1;32m    103\u001b[0m       \u001b[0;32mif\u001b[0m \u001b[0;34m'error'\u001b[0m \u001b[0;32min\u001b[0m \u001b[0mreply\u001b[0m\u001b[0;34m:\u001b[0m\u001b[0;34m\u001b[0m\u001b[0;34m\u001b[0m\u001b[0m\n\u001b[0;32m--> 104\u001b[0;31m         \u001b[0;32mraise\u001b[0m \u001b[0mMessageError\u001b[0m\u001b[0;34m(\u001b[0m\u001b[0mreply\u001b[0m\u001b[0;34m[\u001b[0m\u001b[0;34m'error'\u001b[0m\u001b[0;34m]\u001b[0m\u001b[0;34m)\u001b[0m\u001b[0;34m\u001b[0m\u001b[0;34m\u001b[0m\u001b[0m\n\u001b[0m\u001b[1;32m    105\u001b[0m       \u001b[0;32mreturn\u001b[0m \u001b[0mreply\u001b[0m\u001b[0;34m.\u001b[0m\u001b[0mget\u001b[0m\u001b[0;34m(\u001b[0m\u001b[0;34m'data'\u001b[0m\u001b[0;34m,\u001b[0m \u001b[0;32mNone\u001b[0m\u001b[0;34m)\u001b[0m\u001b[0;34m\u001b[0m\u001b[0;34m\u001b[0m\u001b[0m\n\u001b[1;32m    106\u001b[0m \u001b[0;34m\u001b[0m\u001b[0m\n",
            "\u001b[0;31mMessageError\u001b[0m: Error: credential propagation was unsuccessful"
          ]
        }
      ]
    },
    {
      "cell_type": "code",
      "source": [
        "df = pd.read_csv('/content/project_data.csv',na_values='?')\n",
        "df.head(5)\n"
      ],
      "metadata": {
        "colab": {
          "base_uri": "https://localhost:8080/",
          "height": 270
        },
        "id": "k98hkBz3jpFm",
        "outputId": "f4844f80-6f62-4fdf-c0f9-a423c2aa2293"
      },
      "execution_count": 3,
      "outputs": [
        {
          "output_type": "execute_result",
          "data": {
            "text/plain": [
              "   Gender   Age  Height  Weight family_history_with_overweight FAVC  FCVC  \\\n",
              "0  Female  21.0    1.62    64.0                            yes   no   2.0   \n",
              "1  Female  21.0    1.52    56.0                            yes   no   3.0   \n",
              "2    Male  23.0    1.80    77.0                            yes   no   2.0   \n",
              "3    Male  27.0    1.80    87.0                             no   no   3.0   \n",
              "4    Male  22.0    1.78    89.8                             no   no   2.0   \n",
              "\n",
              "   NCP       CAEC SMOKE  CH2O  SCC  FAF  TUE        CALC  \\\n",
              "0  3.0  Sometimes    no   2.0   no  0.0  1.0          no   \n",
              "1  3.0  Sometimes   yes   3.0  yes  3.0  0.0   Sometimes   \n",
              "2  3.0  Sometimes    no   2.0   no  2.0  1.0  Frequently   \n",
              "3  3.0  Sometimes    no   2.0   no  2.0  0.0  Frequently   \n",
              "4  1.0  Sometimes    no   2.0   no  0.0  0.0   Sometimes   \n",
              "\n",
              "                  MTRANS           NObeyesdad  \n",
              "0  Public_Transportation        Normal_Weight  \n",
              "1  Public_Transportation        Normal_Weight  \n",
              "2  Public_Transportation        Normal_Weight  \n",
              "3                Walking   Overweight_Level_I  \n",
              "4  Public_Transportation  Overweight_Level_II  "
            ],
            "text/html": [
              "\n",
              "  <div id=\"df-50f8727a-9ceb-4078-962d-c31e2aba4a66\">\n",
              "    <div class=\"colab-df-container\">\n",
              "      <div>\n",
              "<style scoped>\n",
              "    .dataframe tbody tr th:only-of-type {\n",
              "        vertical-align: middle;\n",
              "    }\n",
              "\n",
              "    .dataframe tbody tr th {\n",
              "        vertical-align: top;\n",
              "    }\n",
              "\n",
              "    .dataframe thead th {\n",
              "        text-align: right;\n",
              "    }\n",
              "</style>\n",
              "<table border=\"1\" class=\"dataframe\">\n",
              "  <thead>\n",
              "    <tr style=\"text-align: right;\">\n",
              "      <th></th>\n",
              "      <th>Gender</th>\n",
              "      <th>Age</th>\n",
              "      <th>Height</th>\n",
              "      <th>Weight</th>\n",
              "      <th>family_history_with_overweight</th>\n",
              "      <th>FAVC</th>\n",
              "      <th>FCVC</th>\n",
              "      <th>NCP</th>\n",
              "      <th>CAEC</th>\n",
              "      <th>SMOKE</th>\n",
              "      <th>CH2O</th>\n",
              "      <th>SCC</th>\n",
              "      <th>FAF</th>\n",
              "      <th>TUE</th>\n",
              "      <th>CALC</th>\n",
              "      <th>MTRANS</th>\n",
              "      <th>NObeyesdad</th>\n",
              "    </tr>\n",
              "  </thead>\n",
              "  <tbody>\n",
              "    <tr>\n",
              "      <th>0</th>\n",
              "      <td>Female</td>\n",
              "      <td>21.0</td>\n",
              "      <td>1.62</td>\n",
              "      <td>64.0</td>\n",
              "      <td>yes</td>\n",
              "      <td>no</td>\n",
              "      <td>2.0</td>\n",
              "      <td>3.0</td>\n",
              "      <td>Sometimes</td>\n",
              "      <td>no</td>\n",
              "      <td>2.0</td>\n",
              "      <td>no</td>\n",
              "      <td>0.0</td>\n",
              "      <td>1.0</td>\n",
              "      <td>no</td>\n",
              "      <td>Public_Transportation</td>\n",
              "      <td>Normal_Weight</td>\n",
              "    </tr>\n",
              "    <tr>\n",
              "      <th>1</th>\n",
              "      <td>Female</td>\n",
              "      <td>21.0</td>\n",
              "      <td>1.52</td>\n",
              "      <td>56.0</td>\n",
              "      <td>yes</td>\n",
              "      <td>no</td>\n",
              "      <td>3.0</td>\n",
              "      <td>3.0</td>\n",
              "      <td>Sometimes</td>\n",
              "      <td>yes</td>\n",
              "      <td>3.0</td>\n",
              "      <td>yes</td>\n",
              "      <td>3.0</td>\n",
              "      <td>0.0</td>\n",
              "      <td>Sometimes</td>\n",
              "      <td>Public_Transportation</td>\n",
              "      <td>Normal_Weight</td>\n",
              "    </tr>\n",
              "    <tr>\n",
              "      <th>2</th>\n",
              "      <td>Male</td>\n",
              "      <td>23.0</td>\n",
              "      <td>1.80</td>\n",
              "      <td>77.0</td>\n",
              "      <td>yes</td>\n",
              "      <td>no</td>\n",
              "      <td>2.0</td>\n",
              "      <td>3.0</td>\n",
              "      <td>Sometimes</td>\n",
              "      <td>no</td>\n",
              "      <td>2.0</td>\n",
              "      <td>no</td>\n",
              "      <td>2.0</td>\n",
              "      <td>1.0</td>\n",
              "      <td>Frequently</td>\n",
              "      <td>Public_Transportation</td>\n",
              "      <td>Normal_Weight</td>\n",
              "    </tr>\n",
              "    <tr>\n",
              "      <th>3</th>\n",
              "      <td>Male</td>\n",
              "      <td>27.0</td>\n",
              "      <td>1.80</td>\n",
              "      <td>87.0</td>\n",
              "      <td>no</td>\n",
              "      <td>no</td>\n",
              "      <td>3.0</td>\n",
              "      <td>3.0</td>\n",
              "      <td>Sometimes</td>\n",
              "      <td>no</td>\n",
              "      <td>2.0</td>\n",
              "      <td>no</td>\n",
              "      <td>2.0</td>\n",
              "      <td>0.0</td>\n",
              "      <td>Frequently</td>\n",
              "      <td>Walking</td>\n",
              "      <td>Overweight_Level_I</td>\n",
              "    </tr>\n",
              "    <tr>\n",
              "      <th>4</th>\n",
              "      <td>Male</td>\n",
              "      <td>22.0</td>\n",
              "      <td>1.78</td>\n",
              "      <td>89.8</td>\n",
              "      <td>no</td>\n",
              "      <td>no</td>\n",
              "      <td>2.0</td>\n",
              "      <td>1.0</td>\n",
              "      <td>Sometimes</td>\n",
              "      <td>no</td>\n",
              "      <td>2.0</td>\n",
              "      <td>no</td>\n",
              "      <td>0.0</td>\n",
              "      <td>0.0</td>\n",
              "      <td>Sometimes</td>\n",
              "      <td>Public_Transportation</td>\n",
              "      <td>Overweight_Level_II</td>\n",
              "    </tr>\n",
              "  </tbody>\n",
              "</table>\n",
              "</div>\n",
              "      <button class=\"colab-df-convert\" onclick=\"convertToInteractive('df-50f8727a-9ceb-4078-962d-c31e2aba4a66')\"\n",
              "              title=\"Convert this dataframe to an interactive table.\"\n",
              "              style=\"display:none;\">\n",
              "        \n",
              "  <svg xmlns=\"http://www.w3.org/2000/svg\" height=\"24px\"viewBox=\"0 0 24 24\"\n",
              "       width=\"24px\">\n",
              "    <path d=\"M0 0h24v24H0V0z\" fill=\"none\"/>\n",
              "    <path d=\"M18.56 5.44l.94 2.06.94-2.06 2.06-.94-2.06-.94-.94-2.06-.94 2.06-2.06.94zm-11 1L8.5 8.5l.94-2.06 2.06-.94-2.06-.94L8.5 2.5l-.94 2.06-2.06.94zm10 10l.94 2.06.94-2.06 2.06-.94-2.06-.94-.94-2.06-.94 2.06-2.06.94z\"/><path d=\"M17.41 7.96l-1.37-1.37c-.4-.4-.92-.59-1.43-.59-.52 0-1.04.2-1.43.59L10.3 9.45l-7.72 7.72c-.78.78-.78 2.05 0 2.83L4 21.41c.39.39.9.59 1.41.59.51 0 1.02-.2 1.41-.59l7.78-7.78 2.81-2.81c.8-.78.8-2.07 0-2.86zM5.41 20L4 18.59l7.72-7.72 1.47 1.35L5.41 20z\"/>\n",
              "  </svg>\n",
              "      </button>\n",
              "      \n",
              "  <style>\n",
              "    .colab-df-container {\n",
              "      display:flex;\n",
              "      flex-wrap:wrap;\n",
              "      gap: 12px;\n",
              "    }\n",
              "\n",
              "    .colab-df-convert {\n",
              "      background-color: #E8F0FE;\n",
              "      border: none;\n",
              "      border-radius: 50%;\n",
              "      cursor: pointer;\n",
              "      display: none;\n",
              "      fill: #1967D2;\n",
              "      height: 32px;\n",
              "      padding: 0 0 0 0;\n",
              "      width: 32px;\n",
              "    }\n",
              "\n",
              "    .colab-df-convert:hover {\n",
              "      background-color: #E2EBFA;\n",
              "      box-shadow: 0px 1px 2px rgba(60, 64, 67, 0.3), 0px 1px 3px 1px rgba(60, 64, 67, 0.15);\n",
              "      fill: #174EA6;\n",
              "    }\n",
              "\n",
              "    [theme=dark] .colab-df-convert {\n",
              "      background-color: #3B4455;\n",
              "      fill: #D2E3FC;\n",
              "    }\n",
              "\n",
              "    [theme=dark] .colab-df-convert:hover {\n",
              "      background-color: #434B5C;\n",
              "      box-shadow: 0px 1px 3px 1px rgba(0, 0, 0, 0.15);\n",
              "      filter: drop-shadow(0px 1px 2px rgba(0, 0, 0, 0.3));\n",
              "      fill: #FFFFFF;\n",
              "    }\n",
              "  </style>\n",
              "\n",
              "      <script>\n",
              "        const buttonEl =\n",
              "          document.querySelector('#df-50f8727a-9ceb-4078-962d-c31e2aba4a66 button.colab-df-convert');\n",
              "        buttonEl.style.display =\n",
              "          google.colab.kernel.accessAllowed ? 'block' : 'none';\n",
              "\n",
              "        async function convertToInteractive(key) {\n",
              "          const element = document.querySelector('#df-50f8727a-9ceb-4078-962d-c31e2aba4a66');\n",
              "          const dataTable =\n",
              "            await google.colab.kernel.invokeFunction('convertToInteractive',\n",
              "                                                     [key], {});\n",
              "          if (!dataTable) return;\n",
              "\n",
              "          const docLinkHtml = 'Like what you see? Visit the ' +\n",
              "            '<a target=\"_blank\" href=https://colab.research.google.com/notebooks/data_table.ipynb>data table notebook</a>'\n",
              "            + ' to learn more about interactive tables.';\n",
              "          element.innerHTML = '';\n",
              "          dataTable['output_type'] = 'display_data';\n",
              "          await google.colab.output.renderOutput(dataTable, element);\n",
              "          const docLink = document.createElement('div');\n",
              "          docLink.innerHTML = docLinkHtml;\n",
              "          element.appendChild(docLink);\n",
              "        }\n",
              "      </script>\n",
              "    </div>\n",
              "  </div>\n",
              "  "
            ]
          },
          "metadata": {},
          "execution_count": 3
        }
      ]
    },
    {
      "cell_type": "code",
      "source": [
        "df.isnull().sum()"
      ],
      "metadata": {
        "colab": {
          "base_uri": "https://localhost:8080/"
        },
        "id": "B6_7q83WkKwR",
        "outputId": "b1b93640-1d8d-433f-b935-d04dfde29dd6"
      },
      "execution_count": 4,
      "outputs": [
        {
          "output_type": "execute_result",
          "data": {
            "text/plain": [
              "Gender                            0\n",
              "Age                               0\n",
              "Height                            0\n",
              "Weight                            0\n",
              "family_history_with_overweight    0\n",
              "FAVC                              0\n",
              "FCVC                              0\n",
              "NCP                               0\n",
              "CAEC                              0\n",
              "SMOKE                             0\n",
              "CH2O                              0\n",
              "SCC                               0\n",
              "FAF                               0\n",
              "TUE                               0\n",
              "CALC                              0\n",
              "MTRANS                            0\n",
              "NObeyesdad                        0\n",
              "dtype: int64"
            ]
          },
          "metadata": {},
          "execution_count": 4
        }
      ]
    },
    {
      "cell_type": "markdown",
      "source": [
        "No null values so no need to handle missing values"
      ],
      "metadata": {
        "id": "57sB5K7WkiIA"
      }
    },
    {
      "cell_type": "code",
      "source": [
        "df.describe()"
      ],
      "metadata": {
        "colab": {
          "base_uri": "https://localhost:8080/",
          "height": 300
        },
        "id": "bD8yZtJVkhNV",
        "outputId": "0dc5d866-1301-4638-9d99-3dd539287559"
      },
      "execution_count": 5,
      "outputs": [
        {
          "output_type": "execute_result",
          "data": {
            "text/plain": [
              "               Age       Height       Weight         FCVC          NCP  \\\n",
              "count  2111.000000  2111.000000  2111.000000  2111.000000  2111.000000   \n",
              "mean     24.312600     1.701677    86.586058     2.419043     2.685628   \n",
              "std       6.345968     0.093305    26.191172     0.533927     0.778039   \n",
              "min      14.000000     1.450000    39.000000     1.000000     1.000000   \n",
              "25%      19.947192     1.630000    65.473343     2.000000     2.658738   \n",
              "50%      22.777890     1.700499    83.000000     2.385502     3.000000   \n",
              "75%      26.000000     1.768464   107.430682     3.000000     3.000000   \n",
              "max      61.000000     1.980000   173.000000     3.000000     4.000000   \n",
              "\n",
              "              CH2O          FAF          TUE  \n",
              "count  2111.000000  2111.000000  2111.000000  \n",
              "mean      2.008011     1.010298     0.657866  \n",
              "std       0.612953     0.850592     0.608927  \n",
              "min       1.000000     0.000000     0.000000  \n",
              "25%       1.584812     0.124505     0.000000  \n",
              "50%       2.000000     1.000000     0.625350  \n",
              "75%       2.477420     1.666678     1.000000  \n",
              "max       3.000000     3.000000     2.000000  "
            ],
            "text/html": [
              "\n",
              "  <div id=\"df-e5e54953-bc77-412b-b623-f47487d16aa1\">\n",
              "    <div class=\"colab-df-container\">\n",
              "      <div>\n",
              "<style scoped>\n",
              "    .dataframe tbody tr th:only-of-type {\n",
              "        vertical-align: middle;\n",
              "    }\n",
              "\n",
              "    .dataframe tbody tr th {\n",
              "        vertical-align: top;\n",
              "    }\n",
              "\n",
              "    .dataframe thead th {\n",
              "        text-align: right;\n",
              "    }\n",
              "</style>\n",
              "<table border=\"1\" class=\"dataframe\">\n",
              "  <thead>\n",
              "    <tr style=\"text-align: right;\">\n",
              "      <th></th>\n",
              "      <th>Age</th>\n",
              "      <th>Height</th>\n",
              "      <th>Weight</th>\n",
              "      <th>FCVC</th>\n",
              "      <th>NCP</th>\n",
              "      <th>CH2O</th>\n",
              "      <th>FAF</th>\n",
              "      <th>TUE</th>\n",
              "    </tr>\n",
              "  </thead>\n",
              "  <tbody>\n",
              "    <tr>\n",
              "      <th>count</th>\n",
              "      <td>2111.000000</td>\n",
              "      <td>2111.000000</td>\n",
              "      <td>2111.000000</td>\n",
              "      <td>2111.000000</td>\n",
              "      <td>2111.000000</td>\n",
              "      <td>2111.000000</td>\n",
              "      <td>2111.000000</td>\n",
              "      <td>2111.000000</td>\n",
              "    </tr>\n",
              "    <tr>\n",
              "      <th>mean</th>\n",
              "      <td>24.312600</td>\n",
              "      <td>1.701677</td>\n",
              "      <td>86.586058</td>\n",
              "      <td>2.419043</td>\n",
              "      <td>2.685628</td>\n",
              "      <td>2.008011</td>\n",
              "      <td>1.010298</td>\n",
              "      <td>0.657866</td>\n",
              "    </tr>\n",
              "    <tr>\n",
              "      <th>std</th>\n",
              "      <td>6.345968</td>\n",
              "      <td>0.093305</td>\n",
              "      <td>26.191172</td>\n",
              "      <td>0.533927</td>\n",
              "      <td>0.778039</td>\n",
              "      <td>0.612953</td>\n",
              "      <td>0.850592</td>\n",
              "      <td>0.608927</td>\n",
              "    </tr>\n",
              "    <tr>\n",
              "      <th>min</th>\n",
              "      <td>14.000000</td>\n",
              "      <td>1.450000</td>\n",
              "      <td>39.000000</td>\n",
              "      <td>1.000000</td>\n",
              "      <td>1.000000</td>\n",
              "      <td>1.000000</td>\n",
              "      <td>0.000000</td>\n",
              "      <td>0.000000</td>\n",
              "    </tr>\n",
              "    <tr>\n",
              "      <th>25%</th>\n",
              "      <td>19.947192</td>\n",
              "      <td>1.630000</td>\n",
              "      <td>65.473343</td>\n",
              "      <td>2.000000</td>\n",
              "      <td>2.658738</td>\n",
              "      <td>1.584812</td>\n",
              "      <td>0.124505</td>\n",
              "      <td>0.000000</td>\n",
              "    </tr>\n",
              "    <tr>\n",
              "      <th>50%</th>\n",
              "      <td>22.777890</td>\n",
              "      <td>1.700499</td>\n",
              "      <td>83.000000</td>\n",
              "      <td>2.385502</td>\n",
              "      <td>3.000000</td>\n",
              "      <td>2.000000</td>\n",
              "      <td>1.000000</td>\n",
              "      <td>0.625350</td>\n",
              "    </tr>\n",
              "    <tr>\n",
              "      <th>75%</th>\n",
              "      <td>26.000000</td>\n",
              "      <td>1.768464</td>\n",
              "      <td>107.430682</td>\n",
              "      <td>3.000000</td>\n",
              "      <td>3.000000</td>\n",
              "      <td>2.477420</td>\n",
              "      <td>1.666678</td>\n",
              "      <td>1.000000</td>\n",
              "    </tr>\n",
              "    <tr>\n",
              "      <th>max</th>\n",
              "      <td>61.000000</td>\n",
              "      <td>1.980000</td>\n",
              "      <td>173.000000</td>\n",
              "      <td>3.000000</td>\n",
              "      <td>4.000000</td>\n",
              "      <td>3.000000</td>\n",
              "      <td>3.000000</td>\n",
              "      <td>2.000000</td>\n",
              "    </tr>\n",
              "  </tbody>\n",
              "</table>\n",
              "</div>\n",
              "      <button class=\"colab-df-convert\" onclick=\"convertToInteractive('df-e5e54953-bc77-412b-b623-f47487d16aa1')\"\n",
              "              title=\"Convert this dataframe to an interactive table.\"\n",
              "              style=\"display:none;\">\n",
              "        \n",
              "  <svg xmlns=\"http://www.w3.org/2000/svg\" height=\"24px\"viewBox=\"0 0 24 24\"\n",
              "       width=\"24px\">\n",
              "    <path d=\"M0 0h24v24H0V0z\" fill=\"none\"/>\n",
              "    <path d=\"M18.56 5.44l.94 2.06.94-2.06 2.06-.94-2.06-.94-.94-2.06-.94 2.06-2.06.94zm-11 1L8.5 8.5l.94-2.06 2.06-.94-2.06-.94L8.5 2.5l-.94 2.06-2.06.94zm10 10l.94 2.06.94-2.06 2.06-.94-2.06-.94-.94-2.06-.94 2.06-2.06.94z\"/><path d=\"M17.41 7.96l-1.37-1.37c-.4-.4-.92-.59-1.43-.59-.52 0-1.04.2-1.43.59L10.3 9.45l-7.72 7.72c-.78.78-.78 2.05 0 2.83L4 21.41c.39.39.9.59 1.41.59.51 0 1.02-.2 1.41-.59l7.78-7.78 2.81-2.81c.8-.78.8-2.07 0-2.86zM5.41 20L4 18.59l7.72-7.72 1.47 1.35L5.41 20z\"/>\n",
              "  </svg>\n",
              "      </button>\n",
              "      \n",
              "  <style>\n",
              "    .colab-df-container {\n",
              "      display:flex;\n",
              "      flex-wrap:wrap;\n",
              "      gap: 12px;\n",
              "    }\n",
              "\n",
              "    .colab-df-convert {\n",
              "      background-color: #E8F0FE;\n",
              "      border: none;\n",
              "      border-radius: 50%;\n",
              "      cursor: pointer;\n",
              "      display: none;\n",
              "      fill: #1967D2;\n",
              "      height: 32px;\n",
              "      padding: 0 0 0 0;\n",
              "      width: 32px;\n",
              "    }\n",
              "\n",
              "    .colab-df-convert:hover {\n",
              "      background-color: #E2EBFA;\n",
              "      box-shadow: 0px 1px 2px rgba(60, 64, 67, 0.3), 0px 1px 3px 1px rgba(60, 64, 67, 0.15);\n",
              "      fill: #174EA6;\n",
              "    }\n",
              "\n",
              "    [theme=dark] .colab-df-convert {\n",
              "      background-color: #3B4455;\n",
              "      fill: #D2E3FC;\n",
              "    }\n",
              "\n",
              "    [theme=dark] .colab-df-convert:hover {\n",
              "      background-color: #434B5C;\n",
              "      box-shadow: 0px 1px 3px 1px rgba(0, 0, 0, 0.15);\n",
              "      filter: drop-shadow(0px 1px 2px rgba(0, 0, 0, 0.3));\n",
              "      fill: #FFFFFF;\n",
              "    }\n",
              "  </style>\n",
              "\n",
              "      <script>\n",
              "        const buttonEl =\n",
              "          document.querySelector('#df-e5e54953-bc77-412b-b623-f47487d16aa1 button.colab-df-convert');\n",
              "        buttonEl.style.display =\n",
              "          google.colab.kernel.accessAllowed ? 'block' : 'none';\n",
              "\n",
              "        async function convertToInteractive(key) {\n",
              "          const element = document.querySelector('#df-e5e54953-bc77-412b-b623-f47487d16aa1');\n",
              "          const dataTable =\n",
              "            await google.colab.kernel.invokeFunction('convertToInteractive',\n",
              "                                                     [key], {});\n",
              "          if (!dataTable) return;\n",
              "\n",
              "          const docLinkHtml = 'Like what you see? Visit the ' +\n",
              "            '<a target=\"_blank\" href=https://colab.research.google.com/notebooks/data_table.ipynb>data table notebook</a>'\n",
              "            + ' to learn more about interactive tables.';\n",
              "          element.innerHTML = '';\n",
              "          dataTable['output_type'] = 'display_data';\n",
              "          await google.colab.output.renderOutput(dataTable, element);\n",
              "          const docLink = document.createElement('div');\n",
              "          docLink.innerHTML = docLinkHtml;\n",
              "          element.appendChild(docLink);\n",
              "        }\n",
              "      </script>\n",
              "    </div>\n",
              "  </div>\n",
              "  "
            ]
          },
          "metadata": {},
          "execution_count": 5
        }
      ]
    },
    {
      "cell_type": "code",
      "source": [
        "df.dtypes"
      ],
      "metadata": {
        "colab": {
          "base_uri": "https://localhost:8080/"
        },
        "id": "TeG8DYo2kQ2P",
        "outputId": "b595ceac-8913-4f41-aad5-551b2169657c"
      },
      "execution_count": 6,
      "outputs": [
        {
          "output_type": "execute_result",
          "data": {
            "text/plain": [
              "Gender                             object\n",
              "Age                               float64\n",
              "Height                            float64\n",
              "Weight                            float64\n",
              "family_history_with_overweight     object\n",
              "FAVC                               object\n",
              "FCVC                              float64\n",
              "NCP                               float64\n",
              "CAEC                               object\n",
              "SMOKE                              object\n",
              "CH2O                              float64\n",
              "SCC                                object\n",
              "FAF                               float64\n",
              "TUE                               float64\n",
              "CALC                               object\n",
              "MTRANS                             object\n",
              "NObeyesdad                         object\n",
              "dtype: object"
            ]
          },
          "metadata": {},
          "execution_count": 6
        }
      ]
    },
    {
      "cell_type": "code",
      "source": [
        "df.shape"
      ],
      "metadata": {
        "colab": {
          "base_uri": "https://localhost:8080/"
        },
        "id": "k1f-0Qe9nM8X",
        "outputId": "636f5f3a-d734-4bc2-9f28-76641868073c"
      },
      "execution_count": 7,
      "outputs": [
        {
          "output_type": "execute_result",
          "data": {
            "text/plain": [
              "(2111, 17)"
            ]
          },
          "metadata": {},
          "execution_count": 7
        }
      ]
    },
    {
      "cell_type": "markdown",
      "source": [
        "**Encoding**"
      ],
      "metadata": {
        "id": "OuGyAuOHwxsC"
      }
    },
    {
      "cell_type": "code",
      "source": [
        "feature_obj = [\n",
        "   \"Gender\",\n",
        "   \"family_history_with_overweight\",\n",
        "   \"FAVC\",\n",
        "   \"CAEC\",\n",
        "   \"SMOKE\",\n",
        "   \"SCC\",  \n",
        "   \"CALC\",\n",
        "   \"MTRANS\",\n",
        "   \"NObeyesdad\"\n",
        "]"
      ],
      "metadata": {
        "id": "Oy_J3jxslP-m"
      },
      "execution_count": 8,
      "outputs": []
    },
    {
      "cell_type": "code",
      "source": [
        "df_obj = df.select_dtypes(include=['object'].copy())\n"
      ],
      "metadata": {
        "id": "Aclw1_j5uBKh"
      },
      "execution_count": 9,
      "outputs": []
    },
    {
      "cell_type": "code",
      "source": [
        "\n",
        "for i in df_obj.columns:\n",
        "    df.loc[:, i] = pd.Categorical(df[i]).codes\n",
        "df.head(5)"
      ],
      "metadata": {
        "colab": {
          "base_uri": "https://localhost:8080/",
          "height": 539
        },
        "id": "hwinYSlgnvvA",
        "outputId": "7414bf21-ea8a-4b8a-e646-17aa4d134164"
      },
      "execution_count": 10,
      "outputs": [
        {
          "output_type": "stream",
          "name": "stderr",
          "text": [
            "<ipython-input-10-690b32aa6760>:2: DeprecationWarning: In a future version, `df.iloc[:, i] = newvals` will attempt to set the values inplace instead of always setting a new array. To retain the old behavior, use either `df[df.columns[i]] = newvals` or, if columns are non-unique, `df.isetitem(i, newvals)`\n",
            "  df.loc[:, i] = pd.Categorical(df[i]).codes\n",
            "<ipython-input-10-690b32aa6760>:2: DeprecationWarning: In a future version, `df.iloc[:, i] = newvals` will attempt to set the values inplace instead of always setting a new array. To retain the old behavior, use either `df[df.columns[i]] = newvals` or, if columns are non-unique, `df.isetitem(i, newvals)`\n",
            "  df.loc[:, i] = pd.Categorical(df[i]).codes\n",
            "<ipython-input-10-690b32aa6760>:2: DeprecationWarning: In a future version, `df.iloc[:, i] = newvals` will attempt to set the values inplace instead of always setting a new array. To retain the old behavior, use either `df[df.columns[i]] = newvals` or, if columns are non-unique, `df.isetitem(i, newvals)`\n",
            "  df.loc[:, i] = pd.Categorical(df[i]).codes\n",
            "<ipython-input-10-690b32aa6760>:2: DeprecationWarning: In a future version, `df.iloc[:, i] = newvals` will attempt to set the values inplace instead of always setting a new array. To retain the old behavior, use either `df[df.columns[i]] = newvals` or, if columns are non-unique, `df.isetitem(i, newvals)`\n",
            "  df.loc[:, i] = pd.Categorical(df[i]).codes\n",
            "<ipython-input-10-690b32aa6760>:2: DeprecationWarning: In a future version, `df.iloc[:, i] = newvals` will attempt to set the values inplace instead of always setting a new array. To retain the old behavior, use either `df[df.columns[i]] = newvals` or, if columns are non-unique, `df.isetitem(i, newvals)`\n",
            "  df.loc[:, i] = pd.Categorical(df[i]).codes\n",
            "<ipython-input-10-690b32aa6760>:2: DeprecationWarning: In a future version, `df.iloc[:, i] = newvals` will attempt to set the values inplace instead of always setting a new array. To retain the old behavior, use either `df[df.columns[i]] = newvals` or, if columns are non-unique, `df.isetitem(i, newvals)`\n",
            "  df.loc[:, i] = pd.Categorical(df[i]).codes\n",
            "<ipython-input-10-690b32aa6760>:2: DeprecationWarning: In a future version, `df.iloc[:, i] = newvals` will attempt to set the values inplace instead of always setting a new array. To retain the old behavior, use either `df[df.columns[i]] = newvals` or, if columns are non-unique, `df.isetitem(i, newvals)`\n",
            "  df.loc[:, i] = pd.Categorical(df[i]).codes\n",
            "<ipython-input-10-690b32aa6760>:2: DeprecationWarning: In a future version, `df.iloc[:, i] = newvals` will attempt to set the values inplace instead of always setting a new array. To retain the old behavior, use either `df[df.columns[i]] = newvals` or, if columns are non-unique, `df.isetitem(i, newvals)`\n",
            "  df.loc[:, i] = pd.Categorical(df[i]).codes\n",
            "<ipython-input-10-690b32aa6760>:2: DeprecationWarning: In a future version, `df.iloc[:, i] = newvals` will attempt to set the values inplace instead of always setting a new array. To retain the old behavior, use either `df[df.columns[i]] = newvals` or, if columns are non-unique, `df.isetitem(i, newvals)`\n",
            "  df.loc[:, i] = pd.Categorical(df[i]).codes\n"
          ]
        },
        {
          "output_type": "execute_result",
          "data": {
            "text/plain": [
              "   Gender   Age  Height  Weight  family_history_with_overweight  FAVC  FCVC  \\\n",
              "0       0  21.0    1.62    64.0                               1     0   2.0   \n",
              "1       0  21.0    1.52    56.0                               1     0   3.0   \n",
              "2       1  23.0    1.80    77.0                               1     0   2.0   \n",
              "3       1  27.0    1.80    87.0                               0     0   3.0   \n",
              "4       1  22.0    1.78    89.8                               0     0   2.0   \n",
              "\n",
              "   NCP  CAEC  SMOKE  CH2O  SCC  FAF  TUE  CALC  MTRANS  NObeyesdad  \n",
              "0  3.0     2      0   2.0    0  0.0  1.0     3       3           1  \n",
              "1  3.0     2      1   3.0    1  3.0  0.0     2       3           1  \n",
              "2  3.0     2      0   2.0    0  2.0  1.0     1       3           1  \n",
              "3  3.0     2      0   2.0    0  2.0  0.0     1       4           5  \n",
              "4  1.0     2      0   2.0    0  0.0  0.0     2       3           6  "
            ],
            "text/html": [
              "\n",
              "  <div id=\"df-25686bea-abdb-4073-9e94-9a1004f16f5b\">\n",
              "    <div class=\"colab-df-container\">\n",
              "      <div>\n",
              "<style scoped>\n",
              "    .dataframe tbody tr th:only-of-type {\n",
              "        vertical-align: middle;\n",
              "    }\n",
              "\n",
              "    .dataframe tbody tr th {\n",
              "        vertical-align: top;\n",
              "    }\n",
              "\n",
              "    .dataframe thead th {\n",
              "        text-align: right;\n",
              "    }\n",
              "</style>\n",
              "<table border=\"1\" class=\"dataframe\">\n",
              "  <thead>\n",
              "    <tr style=\"text-align: right;\">\n",
              "      <th></th>\n",
              "      <th>Gender</th>\n",
              "      <th>Age</th>\n",
              "      <th>Height</th>\n",
              "      <th>Weight</th>\n",
              "      <th>family_history_with_overweight</th>\n",
              "      <th>FAVC</th>\n",
              "      <th>FCVC</th>\n",
              "      <th>NCP</th>\n",
              "      <th>CAEC</th>\n",
              "      <th>SMOKE</th>\n",
              "      <th>CH2O</th>\n",
              "      <th>SCC</th>\n",
              "      <th>FAF</th>\n",
              "      <th>TUE</th>\n",
              "      <th>CALC</th>\n",
              "      <th>MTRANS</th>\n",
              "      <th>NObeyesdad</th>\n",
              "    </tr>\n",
              "  </thead>\n",
              "  <tbody>\n",
              "    <tr>\n",
              "      <th>0</th>\n",
              "      <td>0</td>\n",
              "      <td>21.0</td>\n",
              "      <td>1.62</td>\n",
              "      <td>64.0</td>\n",
              "      <td>1</td>\n",
              "      <td>0</td>\n",
              "      <td>2.0</td>\n",
              "      <td>3.0</td>\n",
              "      <td>2</td>\n",
              "      <td>0</td>\n",
              "      <td>2.0</td>\n",
              "      <td>0</td>\n",
              "      <td>0.0</td>\n",
              "      <td>1.0</td>\n",
              "      <td>3</td>\n",
              "      <td>3</td>\n",
              "      <td>1</td>\n",
              "    </tr>\n",
              "    <tr>\n",
              "      <th>1</th>\n",
              "      <td>0</td>\n",
              "      <td>21.0</td>\n",
              "      <td>1.52</td>\n",
              "      <td>56.0</td>\n",
              "      <td>1</td>\n",
              "      <td>0</td>\n",
              "      <td>3.0</td>\n",
              "      <td>3.0</td>\n",
              "      <td>2</td>\n",
              "      <td>1</td>\n",
              "      <td>3.0</td>\n",
              "      <td>1</td>\n",
              "      <td>3.0</td>\n",
              "      <td>0.0</td>\n",
              "      <td>2</td>\n",
              "      <td>3</td>\n",
              "      <td>1</td>\n",
              "    </tr>\n",
              "    <tr>\n",
              "      <th>2</th>\n",
              "      <td>1</td>\n",
              "      <td>23.0</td>\n",
              "      <td>1.80</td>\n",
              "      <td>77.0</td>\n",
              "      <td>1</td>\n",
              "      <td>0</td>\n",
              "      <td>2.0</td>\n",
              "      <td>3.0</td>\n",
              "      <td>2</td>\n",
              "      <td>0</td>\n",
              "      <td>2.0</td>\n",
              "      <td>0</td>\n",
              "      <td>2.0</td>\n",
              "      <td>1.0</td>\n",
              "      <td>1</td>\n",
              "      <td>3</td>\n",
              "      <td>1</td>\n",
              "    </tr>\n",
              "    <tr>\n",
              "      <th>3</th>\n",
              "      <td>1</td>\n",
              "      <td>27.0</td>\n",
              "      <td>1.80</td>\n",
              "      <td>87.0</td>\n",
              "      <td>0</td>\n",
              "      <td>0</td>\n",
              "      <td>3.0</td>\n",
              "      <td>3.0</td>\n",
              "      <td>2</td>\n",
              "      <td>0</td>\n",
              "      <td>2.0</td>\n",
              "      <td>0</td>\n",
              "      <td>2.0</td>\n",
              "      <td>0.0</td>\n",
              "      <td>1</td>\n",
              "      <td>4</td>\n",
              "      <td>5</td>\n",
              "    </tr>\n",
              "    <tr>\n",
              "      <th>4</th>\n",
              "      <td>1</td>\n",
              "      <td>22.0</td>\n",
              "      <td>1.78</td>\n",
              "      <td>89.8</td>\n",
              "      <td>0</td>\n",
              "      <td>0</td>\n",
              "      <td>2.0</td>\n",
              "      <td>1.0</td>\n",
              "      <td>2</td>\n",
              "      <td>0</td>\n",
              "      <td>2.0</td>\n",
              "      <td>0</td>\n",
              "      <td>0.0</td>\n",
              "      <td>0.0</td>\n",
              "      <td>2</td>\n",
              "      <td>3</td>\n",
              "      <td>6</td>\n",
              "    </tr>\n",
              "  </tbody>\n",
              "</table>\n",
              "</div>\n",
              "      <button class=\"colab-df-convert\" onclick=\"convertToInteractive('df-25686bea-abdb-4073-9e94-9a1004f16f5b')\"\n",
              "              title=\"Convert this dataframe to an interactive table.\"\n",
              "              style=\"display:none;\">\n",
              "        \n",
              "  <svg xmlns=\"http://www.w3.org/2000/svg\" height=\"24px\"viewBox=\"0 0 24 24\"\n",
              "       width=\"24px\">\n",
              "    <path d=\"M0 0h24v24H0V0z\" fill=\"none\"/>\n",
              "    <path d=\"M18.56 5.44l.94 2.06.94-2.06 2.06-.94-2.06-.94-.94-2.06-.94 2.06-2.06.94zm-11 1L8.5 8.5l.94-2.06 2.06-.94-2.06-.94L8.5 2.5l-.94 2.06-2.06.94zm10 10l.94 2.06.94-2.06 2.06-.94-2.06-.94-.94-2.06-.94 2.06-2.06.94z\"/><path d=\"M17.41 7.96l-1.37-1.37c-.4-.4-.92-.59-1.43-.59-.52 0-1.04.2-1.43.59L10.3 9.45l-7.72 7.72c-.78.78-.78 2.05 0 2.83L4 21.41c.39.39.9.59 1.41.59.51 0 1.02-.2 1.41-.59l7.78-7.78 2.81-2.81c.8-.78.8-2.07 0-2.86zM5.41 20L4 18.59l7.72-7.72 1.47 1.35L5.41 20z\"/>\n",
              "  </svg>\n",
              "      </button>\n",
              "      \n",
              "  <style>\n",
              "    .colab-df-container {\n",
              "      display:flex;\n",
              "      flex-wrap:wrap;\n",
              "      gap: 12px;\n",
              "    }\n",
              "\n",
              "    .colab-df-convert {\n",
              "      background-color: #E8F0FE;\n",
              "      border: none;\n",
              "      border-radius: 50%;\n",
              "      cursor: pointer;\n",
              "      display: none;\n",
              "      fill: #1967D2;\n",
              "      height: 32px;\n",
              "      padding: 0 0 0 0;\n",
              "      width: 32px;\n",
              "    }\n",
              "\n",
              "    .colab-df-convert:hover {\n",
              "      background-color: #E2EBFA;\n",
              "      box-shadow: 0px 1px 2px rgba(60, 64, 67, 0.3), 0px 1px 3px 1px rgba(60, 64, 67, 0.15);\n",
              "      fill: #174EA6;\n",
              "    }\n",
              "\n",
              "    [theme=dark] .colab-df-convert {\n",
              "      background-color: #3B4455;\n",
              "      fill: #D2E3FC;\n",
              "    }\n",
              "\n",
              "    [theme=dark] .colab-df-convert:hover {\n",
              "      background-color: #434B5C;\n",
              "      box-shadow: 0px 1px 3px 1px rgba(0, 0, 0, 0.15);\n",
              "      filter: drop-shadow(0px 1px 2px rgba(0, 0, 0, 0.3));\n",
              "      fill: #FFFFFF;\n",
              "    }\n",
              "  </style>\n",
              "\n",
              "      <script>\n",
              "        const buttonEl =\n",
              "          document.querySelector('#df-25686bea-abdb-4073-9e94-9a1004f16f5b button.colab-df-convert');\n",
              "        buttonEl.style.display =\n",
              "          google.colab.kernel.accessAllowed ? 'block' : 'none';\n",
              "\n",
              "        async function convertToInteractive(key) {\n",
              "          const element = document.querySelector('#df-25686bea-abdb-4073-9e94-9a1004f16f5b');\n",
              "          const dataTable =\n",
              "            await google.colab.kernel.invokeFunction('convertToInteractive',\n",
              "                                                     [key], {});\n",
              "          if (!dataTable) return;\n",
              "\n",
              "          const docLinkHtml = 'Like what you see? Visit the ' +\n",
              "            '<a target=\"_blank\" href=https://colab.research.google.com/notebooks/data_table.ipynb>data table notebook</a>'\n",
              "            + ' to learn more about interactive tables.';\n",
              "          element.innerHTML = '';\n",
              "          dataTable['output_type'] = 'display_data';\n",
              "          await google.colab.output.renderOutput(dataTable, element);\n",
              "          const docLink = document.createElement('div');\n",
              "          docLink.innerHTML = docLinkHtml;\n",
              "          element.appendChild(docLink);\n",
              "        }\n",
              "      </script>\n",
              "    </div>\n",
              "  </div>\n",
              "  "
            ]
          },
          "metadata": {},
          "execution_count": 10
        }
      ]
    },
    {
      "cell_type": "markdown",
      "source": [
        "Splitting data into feature matrix and target vector"
      ],
      "metadata": {
        "id": "JZ9b09GMu-BZ"
      }
    },
    {
      "cell_type": "code",
      "source": [
        "#Feature matrix\n",
        "X=df.drop(\"NObeyesdad\",axis=1)\n",
        "X.shape"
      ],
      "metadata": {
        "colab": {
          "base_uri": "https://localhost:8080/"
        },
        "id": "L34EdIc4rG2c",
        "outputId": "9a881b0d-9a93-403e-e155-be3f0faa9da4"
      },
      "execution_count": 11,
      "outputs": [
        {
          "output_type": "execute_result",
          "data": {
            "text/plain": [
              "(2111, 16)"
            ]
          },
          "metadata": {},
          "execution_count": 11
        }
      ]
    },
    {
      "cell_type": "code",
      "source": [
        "#Target vector\n",
        "y=pd.DataFrame(df[\"NObeyesdad\"])\n",
        "y.shape"
      ],
      "metadata": {
        "colab": {
          "base_uri": "https://localhost:8080/"
        },
        "id": "eMLGe5vFrQMf",
        "outputId": "83f56c04-ced0-491d-a6fb-9706255e71b2"
      },
      "execution_count": 12,
      "outputs": [
        {
          "output_type": "execute_result",
          "data": {
            "text/plain": [
              "(2111, 1)"
            ]
          },
          "metadata": {},
          "execution_count": 12
        }
      ]
    },
    {
      "cell_type": "markdown",
      "source": [
        "No dimensionality reduction needed"
      ],
      "metadata": {
        "id": "10Tpxzp5rv1s"
      }
    },
    {
      "cell_type": "markdown",
      "source": [
        "Splitting data"
      ],
      "metadata": {
        "id": "e11vgPmyr8Pa"
      }
    },
    {
      "cell_type": "code",
      "source": [
        "X_train, X_test, y_train, y_test = train_test_split(X,y, test_size=0.2)"
      ],
      "metadata": {
        "id": "oXCjFDmQr_Tx"
      },
      "execution_count": 13,
      "outputs": []
    },
    {
      "cell_type": "markdown",
      "source": [
        "Scaling using min-max scaler"
      ],
      "metadata": {
        "id": "ybSBrdoYr1W2"
      }
    },
    {
      "cell_type": "code",
      "source": [
        "from sklearn.preprocessing import MinMaxScaler \n",
        "\n",
        "scaler = MinMaxScaler()\n",
        "X_train = scaler.fit_transform(X_train)\n",
        "X_test = scaler.transform(X_test)"
      ],
      "metadata": {
        "id": "ErWSuBWur4RI"
      },
      "execution_count": 14,
      "outputs": []
    },
    {
      "cell_type": "markdown",
      "source": [
        "Linear Regression Model"
      ],
      "metadata": {
        "id": "yvAAXb_pMgJN"
      }
    },
    {
      "cell_type": "code",
      "source": [
        "# Create linear regression model and train it on the training data\n",
        "from sklearn.metrics import mean_squared_error\n",
        "from sklearn.model_selection import train_test_split\n",
        "from sklearn.linear_model import LinearRegression\n",
        "from sklearn.metrics import r2_score\n",
        "def get_regressor_mse(model, X, y):\n",
        "\n",
        "   X_train, X_test, y_train, y_test = train_test_split(X,y, test_size=0.2)\n",
        "   model.fit(X_train,y_train)\n",
        "model = LinearRegression()\n",
        "model.fit(X_train, y_train)\n",
        "\n",
        "# Make predictions on the test data\n",
        "y_pred = model.predict(X_test)\n",
        "\n",
        "# Evaluate the model using mean squared error and R-squared\n",
        "mse = mean_squared_error(y_test, y_pred)\n",
        "r2 = r2_score(y_test, y_pred)\n",
        "print(f\"Mean squared error: {mse:.2f}\")\n",
        "print(f\"R-squared: {r2:.2f}\")\n",
        "\n",
        "residuals = y_test - y_pred\n",
        "\n",
        "plt.hist(residuals, bins=20)\n",
        "plt.xlabel(\"Residuals\")\n",
        "plt.ylabel(\"Frequency\")\n",
        "plt.title(\"Histogram of Residuals in Linear Regression\")\n",
        "plt.show()\n",
        "\n",
        "plt.scatter(y_test, y_pred)\n",
        "plt.xlabel(\"Actual values\")\n",
        "plt.ylabel(\"Predicted values\")\n",
        "plt.title(\"Actual vs Predicted values\")\n",
        "plt.show()\n",
        "  "
      ],
      "metadata": {
        "colab": {
          "base_uri": "https://localhost:8080/",
          "height": 962
        },
        "id": "pqiBOvL-MMxn",
        "outputId": "ef617f7c-7094-4822-d152-6b0da93a4d49"
      },
      "execution_count": 17,
      "outputs": [
        {
          "output_type": "stream",
          "name": "stdout",
          "text": [
            "Mean squared error: 2.72\n",
            "R-squared: 0.26\n"
          ]
        },
        {
          "output_type": "display_data",
          "data": {
            "text/plain": [
              "<Figure size 640x480 with 1 Axes>"
            ],
            "image/png": "[encoded data removed]"
          },
          "metadata": {}
        },
        {
          "output_type": "display_data",
          "data": {
            "text/plain": [
              "<Figure size 640x480 with 1 Axes>"
            ],
            "image/png": "[encoded data removed]"
          },
          "metadata": {}
        }
      ]
    },
    {
      "cell_type": "markdown",
      "source": [
        "Logistic Regression Model"
      ],
      "metadata": {
        "id": "gExVlkfOsLuY"
      }
    },
    {
      "cell_type": "code",
      "source": [
        "import pandas as pd\n",
        "from sklearn.linear_model import LogisticRegression\n",
        "from sklearn.metrics import accuracy_score, confusion_matrix\n",
        "from sklearn.model_selection import train_test_split\n",
        "from sklearn.preprocessing import StandardScaler\n",
        "\n",
        "# Split the data into training and testing sets\n",
        "X_train, X_test, y_train, y_test = train_test_split(X, y, test_size=0.2, random_state=42)\n",
        "\n",
        "# Scale the data\n",
        "scaler = StandardScaler()\n",
        "X_train = scaler.fit_transform(X_train)\n",
        "X_test = scaler.transform(X_test)\n",
        "\n",
        "# Train a Logistic Regression model\n",
        "model = LogisticRegression(random_state=42, multi_class='multinomial', solver='newton-cg')\n",
        "model.fit(X_train, y_train)\n",
        "\n",
        "# Make predictions on the test set\n",
        "y_pred = model.predict(X_test)\n",
        "\n",
        "# Evaluate the model using accuracy score and confusion matrix\n",
        "accuracy = accuracy_score(y_test, y_pred)\n",
        "conf_matrix = confusion_matrix(y_test, y_pred)\n",
        "\n",
        "print(\"Accuracy:\", accuracy)\n",
        "print(\"Confusion matrix:\\n\", conf_matrix)\n",
        "sns.set(font_scale=1.4)\n",
        "sns.heatmap(conf_matrix, annot=True, cmap=\"Blues\", fmt=\"d\")\n",
        "plt.title(\"Confusion Matrix\")\n",
        "plt.xlabel(\"Predicted Label\")\n",
        "plt.ylabel(\"True Label\")\n",
        "plt.show()\n"
      ],
      "metadata": {
        "colab": {
          "base_uri": "https://localhost:8080/",
          "height": 705
        },
        "id": "ZhOMBblujKPI",
        "outputId": "e2c041fd-d833-41d2-90c7-193f4a111d3f"
      },
      "execution_count": null,
      "outputs": [
        {
          "output_type": "stream",
          "name": "stderr",
          "text": [
            "/usr/local/lib/python3.9/dist-packages/sklearn/utils/validation.py:1143: DataConversionWarning: A column-vector y was passed when a 1d array was expected. Please change the shape of y to (n_samples, ), for example using ravel().\n",
            "  y = column_or_1d(y, warn=True)\n"
          ]
        },
        {
          "output_type": "stream",
          "name": "stdout",
          "text": [
            "Accuracy: 0.8747044917257684\n",
            "Confusion matrix:\n",
            " [[56  0  0  0  0  0  0]\n",
            " [11 39  0  0  0  8  4]\n",
            " [ 0  0 70  7  0  0  1]\n",
            " [ 0  0  2 56  0  0  0]\n",
            " [ 0  0  0  0 63  0  0]\n",
            " [ 0  4  0  0  0 44  8]\n",
            " [ 0  0  3  0  0  5 42]]\n"
          ]
        },
        {
          "output_type": "display_data",
          "data": {
            "text/plain": [
              "<Figure size 640x480 with 2 Axes>"
            ],
            "image/png": "[encoded data removed]"
          },
          "metadata": {}
        }
      ]
    },
    {
      "cell_type": "markdown",
      "source": [
        "Ridge Regression Model"
      ],
      "metadata": {
        "id": "V5pCGST1sTqM"
      }
    },
    {
      "cell_type": "code",
      "source": [
        "import pandas as pd\n",
        "from sklearn.linear_model import Ridge\n",
        "from sklearn.metrics import mean_squared_error\n",
        "from sklearn.model_selection import train_test_split\n",
        "from sklearn.preprocessing import StandardScaler\n",
        "\n",
        "# Split the data into training and testing sets\n",
        "X_train, X_test, y_train, y_test = train_test_split(X, y, test_size=0.2, random_state=42)\n",
        "\n",
        "# Scale the data\n",
        "scaler = StandardScaler()\n",
        "X_train = scaler.fit_transform(X_train)\n",
        "X_test = scaler.transform(X_test)\n",
        "\n",
        "# Train a Ridge regression model\n",
        "try:\n",
        "    model = Ridge(alpha=1.0, fit_intercept=True)\n",
        "    model.fit(X_train, y_train)\n",
        "except ValueError as e:\n",
        "    print(\"Error: \", e)\n",
        "\n",
        "# Make predictions on the test set\n",
        "try:\n",
        "    y_pred = model.predict(X_test)\n",
        "except NameError as e:\n",
        "    print(\"Error: \", e)\n",
        "\n",
        "# Evaluate the model using mean squared error\n",
        "try:\n",
        "    mse = mean_squared_error(y_test, y_pred)\n",
        "    print(\"Mean squared error:\", mse)\n",
        "except NameError as e:\n",
        "    print(\"Error: \", e)\n",
        "# calculate the R-squared value of the predictions\n",
        "accuracy = r2_score(y_test, y_pred)\n",
        "\n",
        "# print the accuracy\n",
        "print(\"Accuracy:\", accuracy)\n",
        "\n",
        "# Generate predicted values\n",
        "y_pred = model.predict(X_test)\n",
        "\n",
        "# Plot a histogram of the predicted values\n",
        "plt.hist(y_pred, bins=20)\n",
        "plt.xlabel('Predicted Obesity Level')\n",
        "plt.ylabel('Frequency')\n",
        "plt.title('Histogram of Predicted Obesity Level')\n",
        "plt.show()"
      ],
      "metadata": {
        "colab": {
          "base_uri": "https://localhost:8080/",
          "height": 507
        },
        "id": "Vew-Tjyxpl5Z",
        "outputId": "7bad118d-d9ef-468e-87c9-896e29be3565"
      },
      "execution_count": 18,
      "outputs": [
        {
          "output_type": "stream",
          "name": "stdout",
          "text": [
            "Mean squared error: 2.7232669806425904\n",
            "Accuracy: 0.26262161088805647\n"
          ]
        },
        {
          "output_type": "display_data",
          "data": {
            "text/plain": [
              "<Figure size 640x480 with 1 Axes>"
            ],
            "image/png": "[encoded data removed]"
          },
          "metadata": {}
        }
      ]
    },
    {
      "cell_type": "markdown",
      "source": [
        "KNN Model"
      ],
      "metadata": {
        "id": "WREGIpqPsdm5"
      }
    },
    {
      "cell_type": "code",
      "source": [
        "from sklearn.neighbors import KNeighborsClassifier\n",
        "from sklearn.metrics import classification_report\n",
        "from sklearn.model_selection import train_test_split\n",
        "from sklearn.preprocessing import StandardScaler\n",
        "\n",
        "# Split the data into training and testing sets\n",
        "X_train, X_test, y_train, y_test = train_test_split(X, y, test_size=0.2, random_state=42)\n",
        "\n",
        "# Scale the data\n",
        "scaler = StandardScaler()\n",
        "X_train = scaler.fit_transform(X_train)\n",
        "X_test = scaler.transform(X_test)\n",
        "\n",
        "# Train a KNN classifier\n",
        "k = 5\n",
        "model = KNeighborsClassifier(n_neighbors=k)\n",
        "model.fit(X_train, y_train)\n",
        "\n",
        "# Make predictions on the test set\n",
        "y_pred = model.predict(X_test)\n",
        "\n",
        "# Evaluate the model using classification report\n",
        "report = classification_report(y_test, y_pred)\n",
        "print(report)\n",
        "# Plot confusion matrix\n",
        "cm = confusion_matrix(y_test, y_pred)\n",
        "plt.figure(figsize=(10, 7))\n",
        "sns.heatmap(cm, annot=True, cmap=\"Blues\")\n",
        "plt.xlabel(\"Predicted\")\n",
        "plt.ylabel(\"Actual\")\n",
        "plt.show()"
      ],
      "metadata": {
        "colab": {
          "base_uri": "https://localhost:8080/",
          "height": 935
        },
        "id": "Ip8iR043q6_N",
        "outputId": "256750ea-f994-4f7c-e6d8-3ed4fd87226a"
      },
      "execution_count": null,
      "outputs": [
        {
          "output_type": "stream",
          "name": "stderr",
          "text": [
            "/usr/local/lib/python3.9/dist-packages/sklearn/neighbors/_classification.py:215: DataConversionWarning: A column-vector y was passed when a 1d array was expected. Please change the shape of y to (n_samples,), for example using ravel().\n",
            "  return self._fit(X, y)\n"
          ]
        },
        {
          "output_type": "stream",
          "name": "stdout",
          "text": [
            "              precision    recall  f1-score   support\n",
            "\n",
            "           0       0.71      0.91      0.80        56\n",
            "           1       0.67      0.45      0.54        62\n",
            "           2       0.84      0.92      0.88        78\n",
            "           3       0.92      0.98      0.95        58\n",
            "           4       0.98      1.00      0.99        63\n",
            "           5       0.84      0.68      0.75        56\n",
            "           6       0.73      0.76      0.75        50\n",
            "\n",
            "    accuracy                           0.82       423\n",
            "   macro avg       0.81      0.82      0.81       423\n",
            "weighted avg       0.82      0.82      0.81       423\n",
            "\n"
          ]
        },
        {
          "output_type": "display_data",
          "data": {
            "text/plain": [
              "<Figure size 1000x700 with 2 Axes>"
            ],
            "image/png": "[encoded data removed]"
          },
          "metadata": {}
        }
      ]
    },
    {
      "cell_type": "markdown",
      "source": [
        "Neural Network Model"
      ],
      "metadata": {
        "id": "PsUxG4DssZv5"
      }
    },
    {
      "cell_type": "code",
      "source": [
        "import numpy as np\n",
        "import pandas as pd\n",
        "from sklearn.model_selection import train_test_split\n",
        "from sklearn.preprocessing import StandardScaler\n",
        "from keras.models import Sequential\n",
        "from keras.layers import Dense\n",
        "\n",
        "# Load the dataset\n",
        "df = pd.read_csv('/content/project_data.csv')\n",
        "\n",
        "# Convert the categorical variables to numerical using one-hot encoding\n",
        "df = pd.get_dummies(df, columns=['Gender', 'family_history_with_overweight',\n",
        "                                 'FAVC', 'FCVC', 'NCP', 'CAEC', 'SMOKE',\n",
        "                                 'SCC', 'CALC', 'MTRANS'])\n",
        "\n",
        "# Split the dataset into input features and target variable\n",
        "X = df.drop(columns=['NObeyesdad'])\n",
        "y = df['NObeyesdad']\n",
        "\n",
        "# Split the dataset into training and testing sets\n",
        "X_train, X_test, y_train, y_test = train_test_split(X, y, test_size=0.2, random_state=42)\n",
        "\n",
        "# Scale the input features using standardization\n",
        "scaler = StandardScaler()\n",
        "X_train = scaler.fit_transform(X_train)\n",
        "X_test = scaler.transform(X_test)\n",
        "\n",
        "# Create a neural network model\n",
        "model = Sequential()\n",
        "model.add(Dense(units=64, activation='relu', input_dim=X_train.shape[1]))\n",
        "model.add(Dense(units=32, activation='relu'))\n",
        "model.add(Dense(units=7, activation='softmax'))\n",
        "model.compile(loss='categorical_crossentropy', optimizer='adam', metrics=['accuracy'])\n",
        "\n",
        "# Train the model on the training data\n",
        "history= model.fit(X_train, pd.get_dummies(y_train), epochs=100, batch_size=32, validation_split=0.1)\n",
        "\n",
        "# Evaluate the model on the testing data\n",
        "loss, accuracy = model.evaluate(X_test, pd.get_dummies(y_test))\n",
        "print(f\"Loss: {loss:.2f}\")\n",
        "print(f\"Accuracy: {accuracy:.2f}\")\n",
        "print(history.history)\n",
        "\n"
      ],
      "metadata": {
        "colab": {
          "base_uri": "https://localhost:8080/"
        },
        "id": "bdu8bsKuYU0S",
        "outputId": "22e489c7-5f18-4407-ee98-b36c397b6355"
      },
      "execution_count": 41,
      "outputs": [
        {
          "output_type": "stream",
          "name": "stdout",
          "text": [
            "Epoch 1/100\n",
            "48/48 [==============================] - 3s 24ms/step - loss: 1.8932 - accuracy: 0.3259 - val_loss: 1.7246 - val_accuracy: 0.4024\n",
            "Epoch 2/100\n",
            "48/48 [==============================] - 1s 11ms/step - loss: 1.1580 - accuracy: 0.6280 - val_loss: 1.4567 - val_accuracy: 0.4260\n",
            "Epoch 3/100\n",
            "48/48 [==============================] - 1s 18ms/step - loss: 0.7546 - accuracy: 0.7887 - val_loss: 1.3465 - val_accuracy: 0.4793\n",
            "Epoch 4/100\n",
            "48/48 [==============================] - 1s 14ms/step - loss: 0.5614 - accuracy: 0.8348 - val_loss: 1.3088 - val_accuracy: 0.4793\n",
            "Epoch 5/100\n",
            "48/48 [==============================] - 1s 16ms/step - loss: 0.4722 - accuracy: 0.8512 - val_loss: 1.2959 - val_accuracy: 0.4852\n",
            "Epoch 6/100\n",
            "48/48 [==============================] - 1s 17ms/step - loss: 0.4146 - accuracy: 0.8637 - val_loss: 1.2806 - val_accuracy: 0.5089\n",
            "Epoch 7/100\n",
            "48/48 [==============================] - 1s 17ms/step - loss: 0.3771 - accuracy: 0.8657 - val_loss: 1.2883 - val_accuracy: 0.4852\n",
            "Epoch 8/100\n",
            "48/48 [==============================] - 1s 12ms/step - loss: 0.3473 - accuracy: 0.8789 - val_loss: 1.2626 - val_accuracy: 0.5385\n",
            "Epoch 9/100\n",
            "48/48 [==============================] - 1s 11ms/step - loss: 0.3260 - accuracy: 0.8881 - val_loss: 1.2631 - val_accuracy: 0.5385\n",
            "Epoch 10/100\n",
            "48/48 [==============================] - 0s 9ms/step - loss: 0.3073 - accuracy: 0.8986 - val_loss: 1.2479 - val_accuracy: 0.5207\n",
            "Epoch 11/100\n",
            "48/48 [==============================] - 1s 11ms/step - loss: 0.2874 - accuracy: 0.9052 - val_loss: 1.2330 - val_accuracy: 0.5680\n",
            "Epoch 12/100\n",
            "48/48 [==============================] - 1s 11ms/step - loss: 0.2697 - accuracy: 0.9092 - val_loss: 1.2325 - val_accuracy: 0.5680\n",
            "Epoch 13/100\n",
            "48/48 [==============================] - 0s 10ms/step - loss: 0.2548 - accuracy: 0.9092 - val_loss: 1.2258 - val_accuracy: 0.5503\n",
            "Epoch 14/100\n",
            "48/48 [==============================] - 1s 12ms/step - loss: 0.2383 - accuracy: 0.9138 - val_loss: 1.2192 - val_accuracy: 0.5976\n",
            "Epoch 15/100\n",
            "48/48 [==============================] - 1s 15ms/step - loss: 0.2254 - accuracy: 0.9223 - val_loss: 1.2413 - val_accuracy: 0.5917\n",
            "Epoch 16/100\n",
            "48/48 [==============================] - 1s 15ms/step - loss: 0.2098 - accuracy: 0.9329 - val_loss: 1.2440 - val_accuracy: 0.5858\n",
            "Epoch 17/100\n",
            "48/48 [==============================] - 1s 12ms/step - loss: 0.2017 - accuracy: 0.9355 - val_loss: 1.2244 - val_accuracy: 0.6331\n",
            "Epoch 18/100\n",
            "48/48 [==============================] - 1s 11ms/step - loss: 0.1848 - accuracy: 0.9361 - val_loss: 1.2119 - val_accuracy: 0.6213\n",
            "Epoch 19/100\n",
            "48/48 [==============================] - 0s 9ms/step - loss: 0.1729 - accuracy: 0.9460 - val_loss: 1.2194 - val_accuracy: 0.6450\n",
            "Epoch 20/100\n",
            "48/48 [==============================] - 0s 9ms/step - loss: 0.1652 - accuracy: 0.9493 - val_loss: 1.2116 - val_accuracy: 0.6331\n",
            "Epoch 21/100\n",
            "48/48 [==============================] - 0s 9ms/step - loss: 0.1498 - accuracy: 0.9579 - val_loss: 1.2059 - val_accuracy: 0.6331\n",
            "Epoch 22/100\n",
            "48/48 [==============================] - 0s 10ms/step - loss: 0.1400 - accuracy: 0.9605 - val_loss: 1.2228 - val_accuracy: 0.6568\n",
            "Epoch 23/100\n",
            "48/48 [==============================] - 1s 12ms/step - loss: 0.1327 - accuracy: 0.9618 - val_loss: 1.2356 - val_accuracy: 0.6627\n",
            "Epoch 24/100\n",
            "48/48 [==============================] - 1s 11ms/step - loss: 0.1252 - accuracy: 0.9677 - val_loss: 1.2222 - val_accuracy: 0.6450\n",
            "Epoch 25/100\n",
            "48/48 [==============================] - 1s 11ms/step - loss: 0.1143 - accuracy: 0.9710 - val_loss: 1.2321 - val_accuracy: 0.6568\n",
            "Epoch 26/100\n",
            "48/48 [==============================] - 1s 14ms/step - loss: 0.1056 - accuracy: 0.9737 - val_loss: 1.2556 - val_accuracy: 0.6509\n",
            "Epoch 27/100\n",
            "48/48 [==============================] - 1s 15ms/step - loss: 0.0996 - accuracy: 0.9783 - val_loss: 1.2714 - val_accuracy: 0.6627\n",
            "Epoch 28/100\n",
            "48/48 [==============================] - 1s 14ms/step - loss: 0.0938 - accuracy: 0.9763 - val_loss: 1.2650 - val_accuracy: 0.6568\n",
            "Epoch 29/100\n",
            "48/48 [==============================] - 1s 12ms/step - loss: 0.0860 - accuracy: 0.9835 - val_loss: 1.2790 - val_accuracy: 0.6627\n",
            "Epoch 30/100\n",
            "48/48 [==============================] - 1s 12ms/step - loss: 0.0797 - accuracy: 0.9829 - val_loss: 1.2880 - val_accuracy: 0.6746\n",
            "Epoch 31/100\n",
            "48/48 [==============================] - 1s 12ms/step - loss: 0.0756 - accuracy: 0.9849 - val_loss: 1.3196 - val_accuracy: 0.6686\n",
            "Epoch 32/100\n",
            "48/48 [==============================] - 0s 8ms/step - loss: 0.0721 - accuracy: 0.9809 - val_loss: 1.3267 - val_accuracy: 0.6864\n",
            "Epoch 33/100\n",
            "48/48 [==============================] - 1s 10ms/step - loss: 0.0640 - accuracy: 0.9882 - val_loss: 1.3324 - val_accuracy: 0.6923\n",
            "Epoch 34/100\n",
            "48/48 [==============================] - 0s 8ms/step - loss: 0.0629 - accuracy: 0.9855 - val_loss: 1.3399 - val_accuracy: 0.6923\n",
            "Epoch 35/100\n",
            "48/48 [==============================] - 0s 9ms/step - loss: 0.0555 - accuracy: 0.9901 - val_loss: 1.3499 - val_accuracy: 0.6864\n",
            "Epoch 36/100\n",
            "48/48 [==============================] - 0s 10ms/step - loss: 0.0539 - accuracy: 0.9901 - val_loss: 1.3964 - val_accuracy: 0.6923\n",
            "Epoch 37/100\n",
            "48/48 [==============================] - 1s 11ms/step - loss: 0.0489 - accuracy: 0.9908 - val_loss: 1.3937 - val_accuracy: 0.6923\n",
            "Epoch 38/100\n",
            "48/48 [==============================] - 0s 10ms/step - loss: 0.0469 - accuracy: 0.9941 - val_loss: 1.4075 - val_accuracy: 0.6923\n",
            "Epoch 39/100\n",
            "48/48 [==============================] - 1s 11ms/step - loss: 0.0422 - accuracy: 0.9934 - val_loss: 1.4276 - val_accuracy: 0.6923\n",
            "Epoch 40/100\n",
            "48/48 [==============================] - 1s 11ms/step - loss: 0.0414 - accuracy: 0.9928 - val_loss: 1.4375 - val_accuracy: 0.7041\n",
            "Epoch 41/100\n",
            "48/48 [==============================] - 1s 11ms/step - loss: 0.0405 - accuracy: 0.9928 - val_loss: 1.4940 - val_accuracy: 0.6982\n",
            "Epoch 42/100\n",
            "48/48 [==============================] - 1s 11ms/step - loss: 0.0372 - accuracy: 0.9934 - val_loss: 1.5288 - val_accuracy: 0.6923\n",
            "Epoch 43/100\n",
            "48/48 [==============================] - 0s 10ms/step - loss: 0.0313 - accuracy: 0.9974 - val_loss: 1.5277 - val_accuracy: 0.6982\n",
            "Epoch 44/100\n",
            "48/48 [==============================] - 0s 9ms/step - loss: 0.0297 - accuracy: 0.9967 - val_loss: 1.5197 - val_accuracy: 0.6982\n",
            "Epoch 45/100\n",
            "48/48 [==============================] - 0s 9ms/step - loss: 0.0281 - accuracy: 0.9980 - val_loss: 1.5341 - val_accuracy: 0.6982\n",
            "Epoch 46/100\n",
            "48/48 [==============================] - 0s 10ms/step - loss: 0.0265 - accuracy: 0.9967 - val_loss: 1.5685 - val_accuracy: 0.7041\n",
            "Epoch 47/100\n",
            "48/48 [==============================] - 1s 11ms/step - loss: 0.0248 - accuracy: 0.9993 - val_loss: 1.5619 - val_accuracy: 0.7101\n",
            "Epoch 48/100\n",
            "48/48 [==============================] - 0s 10ms/step - loss: 0.0232 - accuracy: 0.9987 - val_loss: 1.5910 - val_accuracy: 0.7041\n",
            "Epoch 49/100\n",
            "48/48 [==============================] - 1s 10ms/step - loss: 0.0225 - accuracy: 0.9980 - val_loss: 1.6224 - val_accuracy: 0.6982\n",
            "Epoch 50/100\n",
            "48/48 [==============================] - 0s 9ms/step - loss: 0.0206 - accuracy: 0.9993 - val_loss: 1.6173 - val_accuracy: 0.7041\n",
            "Epoch 51/100\n",
            "48/48 [==============================] - 1s 11ms/step - loss: 0.0193 - accuracy: 0.9987 - val_loss: 1.6566 - val_accuracy: 0.6982\n",
            "Epoch 52/100\n",
            "48/48 [==============================] - 1s 15ms/step - loss: 0.0174 - accuracy: 1.0000 - val_loss: 1.6630 - val_accuracy: 0.7041\n",
            "Epoch 53/100\n",
            "48/48 [==============================] - 1s 16ms/step - loss: 0.0161 - accuracy: 0.9993 - val_loss: 1.6685 - val_accuracy: 0.7041\n",
            "Epoch 54/100\n",
            "48/48 [==============================] - 1s 30ms/step - loss: 0.0163 - accuracy: 0.9993 - val_loss: 1.7014 - val_accuracy: 0.6982\n",
            "Epoch 55/100\n",
            "48/48 [==============================] - 1s 14ms/step - loss: 0.0143 - accuracy: 0.9993 - val_loss: 1.7351 - val_accuracy: 0.6982\n",
            "Epoch 56/100\n",
            "48/48 [==============================] - 0s 6ms/step - loss: 0.0143 - accuracy: 0.9993 - val_loss: 1.7206 - val_accuracy: 0.6982\n",
            "Epoch 57/100\n",
            "48/48 [==============================] - 0s 6ms/step - loss: 0.0143 - accuracy: 0.9987 - val_loss: 1.7616 - val_accuracy: 0.7041\n",
            "Epoch 58/100\n",
            "48/48 [==============================] - 0s 5ms/step - loss: 0.0126 - accuracy: 1.0000 - val_loss: 1.7697 - val_accuracy: 0.7041\n",
            "Epoch 59/100\n",
            "48/48 [==============================] - 0s 6ms/step - loss: 0.0113 - accuracy: 1.0000 - val_loss: 1.7854 - val_accuracy: 0.6982\n",
            "Epoch 60/100\n",
            "48/48 [==============================] - 0s 6ms/step - loss: 0.0112 - accuracy: 1.0000 - val_loss: 1.8311 - val_accuracy: 0.6982\n",
            "Epoch 61/100\n",
            "48/48 [==============================] - 0s 6ms/step - loss: 0.0100 - accuracy: 1.0000 - val_loss: 1.8426 - val_accuracy: 0.6923\n",
            "Epoch 62/100\n",
            "48/48 [==============================] - 0s 6ms/step - loss: 0.0093 - accuracy: 1.0000 - val_loss: 1.8383 - val_accuracy: 0.7041\n",
            "Epoch 63/100\n",
            "48/48 [==============================] - 0s 6ms/step - loss: 0.0090 - accuracy: 1.0000 - val_loss: 1.8310 - val_accuracy: 0.6982\n",
            "Epoch 64/100\n",
            "48/48 [==============================] - 0s 6ms/step - loss: 0.0095 - accuracy: 1.0000 - val_loss: 1.8566 - val_accuracy: 0.6923\n",
            "Epoch 65/100\n",
            "48/48 [==============================] - 0s 5ms/step - loss: 0.0081 - accuracy: 1.0000 - val_loss: 1.8852 - val_accuracy: 0.7041\n",
            "Epoch 66/100\n",
            "48/48 [==============================] - 0s 5ms/step - loss: 0.0078 - accuracy: 1.0000 - val_loss: 1.8949 - val_accuracy: 0.6982\n",
            "Epoch 67/100\n",
            "48/48 [==============================] - 0s 5ms/step - loss: 0.0080 - accuracy: 1.0000 - val_loss: 1.9133 - val_accuracy: 0.6982\n",
            "Epoch 68/100\n",
            "48/48 [==============================] - 0s 6ms/step - loss: 0.0069 - accuracy: 1.0000 - val_loss: 1.9300 - val_accuracy: 0.7041\n",
            "Epoch 69/100\n",
            "48/48 [==============================] - 0s 6ms/step - loss: 0.0067 - accuracy: 1.0000 - val_loss: 1.9453 - val_accuracy: 0.6982\n",
            "Epoch 70/100\n",
            "48/48 [==============================] - 0s 6ms/step - loss: 0.0068 - accuracy: 1.0000 - val_loss: 1.9772 - val_accuracy: 0.6982\n",
            "Epoch 71/100\n",
            "48/48 [==============================] - 0s 6ms/step - loss: 0.0058 - accuracy: 1.0000 - val_loss: 1.9711 - val_accuracy: 0.7041\n",
            "Epoch 72/100\n",
            "48/48 [==============================] - 0s 6ms/step - loss: 0.0054 - accuracy: 1.0000 - val_loss: 1.9874 - val_accuracy: 0.6982\n",
            "Epoch 73/100\n",
            "48/48 [==============================] - 0s 5ms/step - loss: 0.0051 - accuracy: 1.0000 - val_loss: 1.9827 - val_accuracy: 0.6982\n",
            "Epoch 74/100\n",
            "48/48 [==============================] - 0s 6ms/step - loss: 0.0052 - accuracy: 1.0000 - val_loss: 1.9918 - val_accuracy: 0.6982\n",
            "Epoch 75/100\n",
            "48/48 [==============================] - 0s 6ms/step - loss: 0.0045 - accuracy: 1.0000 - val_loss: 2.0289 - val_accuracy: 0.6982\n",
            "Epoch 76/100\n",
            "48/48 [==============================] - 0s 5ms/step - loss: 0.0049 - accuracy: 1.0000 - val_loss: 2.0497 - val_accuracy: 0.6982\n",
            "Epoch 77/100\n",
            "48/48 [==============================] - 0s 6ms/step - loss: 0.0043 - accuracy: 1.0000 - val_loss: 2.0334 - val_accuracy: 0.6982\n",
            "Epoch 78/100\n",
            "48/48 [==============================] - 0s 5ms/step - loss: 0.0042 - accuracy: 1.0000 - val_loss: 2.0474 - val_accuracy: 0.6982\n",
            "Epoch 79/100\n",
            "48/48 [==============================] - 0s 6ms/step - loss: 0.0043 - accuracy: 1.0000 - val_loss: 2.0765 - val_accuracy: 0.6982\n",
            "Epoch 80/100\n",
            "48/48 [==============================] - 0s 5ms/step - loss: 0.0039 - accuracy: 1.0000 - val_loss: 2.0932 - val_accuracy: 0.6982\n",
            "Epoch 81/100\n",
            "48/48 [==============================] - 0s 5ms/step - loss: 0.0037 - accuracy: 1.0000 - val_loss: 2.0978 - val_accuracy: 0.6982\n",
            "Epoch 82/100\n",
            "48/48 [==============================] - 0s 5ms/step - loss: 0.0032 - accuracy: 1.0000 - val_loss: 2.1297 - val_accuracy: 0.6982\n",
            "Epoch 83/100\n",
            "48/48 [==============================] - 0s 6ms/step - loss: 0.0031 - accuracy: 1.0000 - val_loss: 2.1213 - val_accuracy: 0.6982\n",
            "Epoch 84/100\n",
            "48/48 [==============================] - 0s 5ms/step - loss: 0.0032 - accuracy: 1.0000 - val_loss: 2.1482 - val_accuracy: 0.6982\n",
            "Epoch 85/100\n",
            "48/48 [==============================] - 0s 6ms/step - loss: 0.0030 - accuracy: 1.0000 - val_loss: 2.1441 - val_accuracy: 0.6982\n",
            "Epoch 86/100\n",
            "48/48 [==============================] - 0s 6ms/step - loss: 0.0028 - accuracy: 1.0000 - val_loss: 2.1530 - val_accuracy: 0.7041\n",
            "Epoch 87/100\n",
            "48/48 [==============================] - 0s 6ms/step - loss: 0.0031 - accuracy: 1.0000 - val_loss: 2.1655 - val_accuracy: 0.6982\n",
            "Epoch 88/100\n",
            "48/48 [==============================] - 0s 6ms/step - loss: 0.0027 - accuracy: 1.0000 - val_loss: 2.1947 - val_accuracy: 0.6982\n",
            "Epoch 89/100\n",
            "48/48 [==============================] - 0s 6ms/step - loss: 0.0024 - accuracy: 1.0000 - val_loss: 2.1918 - val_accuracy: 0.6982\n",
            "Epoch 90/100\n",
            "48/48 [==============================] - 0s 6ms/step - loss: 0.0023 - accuracy: 1.0000 - val_loss: 2.2074 - val_accuracy: 0.6982\n",
            "Epoch 91/100\n",
            "48/48 [==============================] - 0s 6ms/step - loss: 0.0023 - accuracy: 1.0000 - val_loss: 2.2397 - val_accuracy: 0.6982\n",
            "Epoch 92/100\n",
            "48/48 [==============================] - 0s 8ms/step - loss: 0.0022 - accuracy: 1.0000 - val_loss: 2.2232 - val_accuracy: 0.6982\n",
            "Epoch 93/100\n",
            "48/48 [==============================] - 0s 8ms/step - loss: 0.0020 - accuracy: 1.0000 - val_loss: 2.2578 - val_accuracy: 0.6982\n",
            "Epoch 94/100\n",
            "48/48 [==============================] - 0s 8ms/step - loss: 0.0020 - accuracy: 1.0000 - val_loss: 2.2681 - val_accuracy: 0.6923\n",
            "Epoch 95/100\n",
            "48/48 [==============================] - 0s 8ms/step - loss: 0.0020 - accuracy: 1.0000 - val_loss: 2.2791 - val_accuracy: 0.6923\n",
            "Epoch 96/100\n",
            "48/48 [==============================] - 0s 8ms/step - loss: 0.0018 - accuracy: 1.0000 - val_loss: 2.2868 - val_accuracy: 0.6923\n",
            "Epoch 97/100\n",
            "48/48 [==============================] - 0s 7ms/step - loss: 0.0017 - accuracy: 1.0000 - val_loss: 2.3121 - val_accuracy: 0.6923\n",
            "Epoch 98/100\n",
            "48/48 [==============================] - 0s 8ms/step - loss: 0.0017 - accuracy: 1.0000 - val_loss: 2.3284 - val_accuracy: 0.6923\n",
            "Epoch 99/100\n",
            "48/48 [==============================] - 0s 8ms/step - loss: 0.0016 - accuracy: 1.0000 - val_loss: 2.3057 - val_accuracy: 0.6923\n",
            "Epoch 100/100\n",
            "48/48 [==============================] - 0s 5ms/step - loss: 0.0016 - accuracy: 1.0000 - val_loss: 2.3198 - val_accuracy: 0.6923\n",
            "14/14 [==============================] - 0s 2ms/step - loss: 0.6774 - accuracy: 0.8085\n",
            "Loss: 0.68\n",
            "Accuracy: 0.81\n",
            "{'loss': [1.893163800239563, 1.1580451726913452, 0.7545625567436218, 0.5613642930984497, 0.4721914827823639, 0.41461503505706787, 0.3771213889122009, 0.34734633564949036, 0.32595622539520264, 0.3072895407676697, 0.2873806357383728, 0.2697136402130127, 0.2548465132713318, 0.2382737100124359, 0.22535784542560577, 0.20980875194072723, 0.20174767076969147, 0.18482781946659088, 0.1728765368461609, 0.1652103215456009, 0.1497812569141388, 0.13998369872570038, 0.13273699581623077, 0.12518537044525146, 0.11431079357862473, 0.10556896030902863, 0.09961185604333878, 0.09378558397293091, 0.08601433783769608, 0.07967980206012726, 0.07557449489831924, 0.07211025804281235, 0.06403156369924545, 0.06293018162250519, 0.0555187426507473, 0.05394916608929634, 0.04894182085990906, 0.04685426503419876, 0.04221484810113907, 0.04140419512987137, 0.04050261899828911, 0.037189848721027374, 0.03125246986746788, 0.029663236811757088, 0.028129231184720993, 0.026532912626862526, 0.024811899289488792, 0.02324189804494381, 0.022510038688778877, 0.0205947645008564, 0.01926935836672783, 0.017369046807289124, 0.01607785001397133, 0.01627797819674015, 0.01426146924495697, 0.01430249772965908, 0.01426275260746479, 0.012620173394680023, 0.011326790787279606, 0.01124593336135149, 0.009998503141105175, 0.009280539117753506, 0.008953850716352463, 0.00953228585422039, 0.008106304332613945, 0.007780525833368301, 0.008035451173782349, 0.006868703756481409, 0.0066889007575809956, 0.006784691009670496, 0.005824810825288296, 0.005391769576817751, 0.005134389270097017, 0.00519641162827611, 0.004517289809882641, 0.004904432222247124, 0.004289775621145964, 0.004176827613264322, 0.004297454375773668, 0.003906969912350178, 0.0036967024207115173, 0.0032439890783280134, 0.003147365991026163, 0.0031982820946723223, 0.002995372749865055, 0.0028117988258600235, 0.0031450260430574417, 0.002677283715456724, 0.002415943890810013, 0.0023403209634125233, 0.0023168365005403757, 0.0021554722916334867, 0.0020484759006649256, 0.0020025838166475296, 0.0019505174132063985, 0.0017636562697589397, 0.0017358879558742046, 0.0016841392498463392, 0.0015937240095809102, 0.0015859085833653808], 'accuracy': [0.3258722722530365, 0.6280447840690613, 0.7886767387390137, 0.8347597122192383, 0.8512179255485535, 0.8637261390686035, 0.8657011389732361, 0.8788676857948303, 0.8880842924118042, 0.8986175060272217, 0.9052007794380188, 0.9091507792472839, 0.9091507792472839, 0.9137590527534485, 0.9223173260688782, 0.9328505396842957, 0.9354838728904724, 0.9361422061920166, 0.9460171461105347, 0.9493087530136108, 0.9578670263290405, 0.9605002999305725, 0.9618169665336609, 0.9677419066429138, 0.9710335731506348, 0.9736669063568115, 0.9782751798629761, 0.9763001799583435, 0.9835417866706848, 0.9828834533691406, 0.9848584532737732, 0.9809085130691528, 0.9881501197814941, 0.9855167865753174, 0.9901250600814819, 0.9901250600814819, 0.9907833933830261, 0.9940750598907471, 0.9934167265892029, 0.9927583932876587, 0.9927583932876587, 0.9934167265892029, 0.9973666667938232, 0.996708333492279, 0.9980250000953674, 0.996708333492279, 0.9993416666984558, 0.9986833333969116, 0.9980250000953674, 0.9993416666984558, 0.9986833333969116, 1.0, 0.9993416666984558, 0.9993416666984558, 0.9993416666984558, 0.9993416666984558, 0.9986833333969116, 1.0, 1.0, 1.0, 1.0, 1.0, 1.0, 1.0, 1.0, 1.0, 1.0, 1.0, 1.0, 1.0, 1.0, 1.0, 1.0, 1.0, 1.0, 1.0, 1.0, 1.0, 1.0, 1.0, 1.0, 1.0, 1.0, 1.0, 1.0, 1.0, 1.0, 1.0, 1.0, 1.0, 1.0, 1.0, 1.0, 1.0, 1.0, 1.0, 1.0, 1.0, 1.0, 1.0], 'val_loss': [1.7245917320251465, 1.4566650390625, 1.3464956283569336, 1.308767318725586, 1.2958533763885498, 1.2805936336517334, 1.2883366346359253, 1.2625517845153809, 1.2631042003631592, 1.2478528022766113, 1.2330154180526733, 1.2324879169464111, 1.2258124351501465, 1.2192021608352661, 1.2413324117660522, 1.2439550161361694, 1.2244035005569458, 1.2118606567382812, 1.2194136381149292, 1.211553931236267, 1.205909252166748, 1.2227777242660522, 1.2356014251708984, 1.2222373485565186, 1.2321444749832153, 1.255551815032959, 1.2714346647262573, 1.2649943828582764, 1.2789558172225952, 1.287998914718628, 1.3196368217468262, 1.3266804218292236, 1.3323687314987183, 1.3399064540863037, 1.349884033203125, 1.3964272737503052, 1.3936636447906494, 1.4075326919555664, 1.4275563955307007, 1.4374788999557495, 1.4940236806869507, 1.528820276260376, 1.5276864767074585, 1.519653558731079, 1.5340758562088013, 1.5684747695922852, 1.5618770122528076, 1.5909638404846191, 1.622363567352295, 1.6173235177993774, 1.6566178798675537, 1.6629680395126343, 1.6685469150543213, 1.7014048099517822, 1.7351288795471191, 1.7206474542617798, 1.7615865468978882, 1.769667387008667, 1.7854288816452026, 1.8310540914535522, 1.842568278312683, 1.8382964134216309, 1.8310182094573975, 1.8566091060638428, 1.8851932287216187, 1.8949494361877441, 1.9133347272872925, 1.929951548576355, 1.9452646970748901, 1.9771811962127686, 1.9711012840270996, 1.9874075651168823, 1.9827204942703247, 1.9917536973953247, 2.0288567543029785, 2.049738883972168, 2.033412218093872, 2.0474371910095215, 2.076500177383423, 2.09324049949646, 2.0978269577026367, 2.1296651363372803, 2.1213254928588867, 2.148223876953125, 2.1440582275390625, 2.152985095977783, 2.1654598712921143, 2.1946592330932617, 2.1917662620544434, 2.2074320316314697, 2.2396764755249023, 2.2231931686401367, 2.257755756378174, 2.2680907249450684, 2.27908992767334, 2.286768913269043, 2.3120944499969482, 2.3284146785736084, 2.305713653564453, 2.3197720050811768], 'val_accuracy': [0.40236687660217285, 0.42603549361228943, 0.4792899489402771, 0.4792899489402771, 0.48520711064338684, 0.5088757276535034, 0.48520711064338684, 0.5384615659713745, 0.5384615659713745, 0.5207100510597229, 0.5680473446846008, 0.5680473446846008, 0.5502958297729492, 0.5976331233978271, 0.5917159914970398, 0.5857987999916077, 0.6331360936164856, 0.6213017702102661, 0.6449704170227051, 0.6331360936164856, 0.6331360936164856, 0.6568047404289246, 0.6627218723297119, 0.6449704170227051, 0.6568047404289246, 0.6508875489234924, 0.6627218723297119, 0.6568047404289246, 0.6627218723297119, 0.6745561957359314, 0.668639063835144, 0.6863905191421509, 0.692307710647583, 0.692307710647583, 0.6863905191421509, 0.692307710647583, 0.692307710647583, 0.692307710647583, 0.692307710647583, 0.7041420340538025, 0.6982248425483704, 0.692307710647583, 0.6982248425483704, 0.6982248425483704, 0.6982248425483704, 0.7041420340538025, 0.7100591659545898, 0.7041420340538025, 0.6982248425483704, 0.7041420340538025, 0.6982248425483704, 0.7041420340538025, 0.7041420340538025, 0.6982248425483704, 0.6982248425483704, 0.6982248425483704, 0.7041420340538025, 0.7041420340538025, 0.6982248425483704, 0.6982248425483704, 0.692307710647583, 0.7041420340538025, 0.6982248425483704, 0.692307710647583, 0.7041420340538025, 0.6982248425483704, 0.6982248425483704, 0.7041420340538025, 0.6982248425483704, 0.6982248425483704, 0.7041420340538025, 0.6982248425483704, 0.6982248425483704, 0.6982248425483704, 0.6982248425483704, 0.6982248425483704, 0.6982248425483704, 0.6982248425483704, 0.6982248425483704, 0.6982248425483704, 0.6982248425483704, 0.6982248425483704, 0.6982248425483704, 0.6982248425483704, 0.6982248425483704, 0.7041420340538025, 0.6982248425483704, 0.6982248425483704, 0.6982248425483704, 0.6982248425483704, 0.6982248425483704, 0.6982248425483704, 0.6982248425483704, 0.692307710647583, 0.692307710647583, 0.692307710647583, 0.692307710647583, 0.692307710647583, 0.692307710647583, 0.692307710647583]}\n"
          ]
        }
      ]
    },
    {
      "cell_type": "code",
      "source": [
        "# Get the training history\n",
        "from keras.utils.vis_utils import plot_model\n",
        "\n",
        "#print(model.history.history)\n",
        "# Plot the loss curve\n",
        "plot_model(model, to_file='model_plot.png', show_shapes=True, show_layer_names=True)\n",
        "\n",
        "plt.plot(history.history['loss'])\n",
        "plt.plot(history.history['val_loss'])\n",
        "plt.title('Model loss')\n",
        "plt.ylabel('Loss')\n",
        "plt.xlabel('Epoch')\n",
        "plt.legend(['Train', 'Validation'], loc='upper right')\n",
        "plt.show()\n",
        "\n",
        "# Plot the training and validation accuracy\n",
        "plt.plot(history.history['accuracy'])\n",
        "plt.plot(history.history['val_accuracy'])\n",
        "plt.title('Model accuracy')\n",
        "plt.ylabel('Accuracy')\n",
        "plt.xlabel('Epoch')\n",
        "plt.legend(['Train', 'Validation'], loc='lower right')\n",
        "plt.show()\n",
        "\n"
      ],
      "metadata": {
        "colab": {
          "base_uri": "https://localhost:8080/",
          "height": 927
        },
        "id": "LuQeiY-C8K8M",
        "outputId": "c6252797-aa5e-4078-a99b-855e94d72c96"
      },
      "execution_count": 43,
      "outputs": [
        {
          "output_type": "display_data",
          "data": {
            "text/plain": [
              "<Figure size 640x480 with 1 Axes>"
            ],
            "image/png": "[encoded data removed]"
          },
          "metadata": {}
        },
        {
          "output_type": "display_data",
          "data": {
            "text/plain": [
              "<Figure size 640x480 with 1 Axes>"
            ],
            "image/png": "[encoded data removed]"
          },
          "metadata": {}
        }
      ]
    }
  ]
}